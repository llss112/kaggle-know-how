{
 "cells": [
  {
   "cell_type": "code",
   "execution_count": 1,
   "metadata": {},
   "outputs": [],
   "source": [
    "import pandas as pd\n",
    "import numpy as np \n",
    "import matplotlib.pyplot as plt\n",
    "import seaborn as sns\n",
    "import datetime"
   ]
  },
  {
   "cell_type": "code",
   "execution_count": 4,
   "metadata": {},
   "outputs": [],
   "source": [
    "train=pd.read_csv(\"D:/OneDrive/OneDrive/취업후/파이썬/캐글노하우/Instant Gratification/train.csv\")\n",
    "test=pd.read_csv(\"D:/OneDrive/OneDrive/취업후/파이썬/캐글노하우/Instant Gratification/test.csv\")\n",
    "submission=pd.read_csv(\"D:/OneDrive/OneDrive/취업후/파이썬/캐글노하우/Instant Gratification/sample_submission.csv\")"
   ]
  },
  {
   "cell_type": "code",
   "execution_count": 6,
   "metadata": {},
   "outputs": [
    {
     "name": "stdout",
     "output_type": "stream",
     "text": [
      "(262144, 258)\n",
      "(131072, 257)\n"
     ]
    }
   ],
   "source": [
    "print(train.shape)\n",
    "print(test.shape)"
   ]
  },
  {
   "cell_type": "code",
   "execution_count": 10,
   "metadata": {},
   "outputs": [
    {
     "name": "stdout",
     "output_type": "stream",
     "text": [
      "target\n",
      "1    131131\n",
      "0    131013\n",
      "Name: count, dtype: int64\n"
     ]
    }
   ],
   "source": [
    "print(train[\"target\"].value_counts())"
   ]
  },
  {
   "cell_type": "code",
   "execution_count": 13,
   "metadata": {},
   "outputs": [
    {
     "data": {
      "text/plain": [
       "<Axes: >"
      ]
     },
     "execution_count": 13,
     "metadata": {},
     "output_type": "execute_result"
    },
    {
     "data": {
      "image/png": "[encoded data removed]",
      "text/plain": [
       "<Figure size 640x480 with 1 Axes>"
      ]
     },
     "metadata": {},
     "output_type": "display_data"
    }
   ],
   "source": [
    "train[\"target\"].cumsum().plot()"
   ]
  },
  {
   "cell_type": "code",
   "execution_count": 16,
   "metadata": {},
   "outputs": [
    {
     "data": {
      "text/plain": [
       "0"
      ]
     },
     "execution_count": 16,
     "metadata": {},
     "output_type": "execute_result"
    }
   ],
   "source": [
    "train.isnull().sum().sum()"
   ]
  },
  {
   "cell_type": "code",
   "execution_count": 18,
   "metadata": {},
   "outputs": [
    {
     "data": {
      "text/plain": [
       "float64    255\n",
       "int64        2\n",
       "object       1\n",
       "Name: count, dtype: int64"
      ]
     },
     "execution_count": 18,
     "metadata": {},
     "output_type": "execute_result"
    }
   ],
   "source": [
    "train.dtypes.value_counts()"
   ]
  },
  {
   "cell_type": "code",
   "execution_count": 23,
   "metadata": {},
   "outputs": [
    {
     "data": {
      "text/html": [
       "<div>\n",
       "<style scoped>\n",
       "    .dataframe tbody tr th:only-of-type {\n",
       "        vertical-align: middle;\n",
       "    }\n",
       "\n",
       "    .dataframe tbody tr th {\n",
       "        vertical-align: top;\n",
       "    }\n",
       "\n",
       "    .dataframe thead th {\n",
       "        text-align: right;\n",
       "    }\n",
       "</style>\n",
       "<table border=\"1\" class=\"dataframe\">\n",
       "  <thead>\n",
       "    <tr style=\"text-align: right;\">\n",
       "      <th></th>\n",
       "      <th>id</th>\n",
       "      <th>wheezy-copper-turtle-magic</th>\n",
       "      <th>target</th>\n",
       "    </tr>\n",
       "  </thead>\n",
       "  <tbody>\n",
       "    <tr>\n",
       "      <th>0</th>\n",
       "      <td>707b395ecdcbb4dc2eabea00e4d1b179</td>\n",
       "      <td>99</td>\n",
       "      <td>0</td>\n",
       "    </tr>\n",
       "    <tr>\n",
       "      <th>1</th>\n",
       "      <td>5880c03c6582a7b42248668e56b4bdec</td>\n",
       "      <td>52</td>\n",
       "      <td>0</td>\n",
       "    </tr>\n",
       "    <tr>\n",
       "      <th>2</th>\n",
       "      <td>4ccbcb3d13e5072ff1d9c61afe2c4f77</td>\n",
       "      <td>230</td>\n",
       "      <td>1</td>\n",
       "    </tr>\n",
       "    <tr>\n",
       "      <th>3</th>\n",
       "      <td>e350f17a357f12a1941f0837afb7eb8d</td>\n",
       "      <td>78</td>\n",
       "      <td>0</td>\n",
       "    </tr>\n",
       "    <tr>\n",
       "      <th>4</th>\n",
       "      <td>a8f910ea6075b6376af079055965ff68</td>\n",
       "      <td>497</td>\n",
       "      <td>0</td>\n",
       "    </tr>\n",
       "  </tbody>\n",
       "</table>\n",
       "</div>"
      ],
      "text/plain": [
       "                                 id  wheezy-copper-turtle-magic  target\n",
       "0  707b395ecdcbb4dc2eabea00e4d1b179                          99       0\n",
       "1  5880c03c6582a7b42248668e56b4bdec                          52       0\n",
       "2  4ccbcb3d13e5072ff1d9c61afe2c4f77                         230       1\n",
       "3  e350f17a357f12a1941f0837afb7eb8d                          78       0\n",
       "4  a8f910ea6075b6376af079055965ff68                         497       0"
      ]
     },
     "execution_count": 23,
     "metadata": {},
     "output_type": "execute_result"
    }
   ],
   "source": [
    "train.select_dtypes(include=[\"object\",\"int\"]).head()\n",
    "# 인트와 오브젝트가 숫자가 적으니 먼저 봄"
   ]
  },
  {
   "cell_type": "code",
   "execution_count": 26,
   "metadata": {},
   "outputs": [],
   "source": [
    "train_columns=[c for c in train.columns if c not in [\"id\",\"target\"]]\n",
    "# id와 타겟을 제외하고 칼럼명이 들어있는 리스트를 만듬"
   ]
  },
  {
   "cell_type": "code",
   "execution_count": 27,
   "metadata": {},
   "outputs": [
    {
     "data": {
      "text/plain": [
       "muggy-smalt-axolotl-pembus              254322\n",
       "dorky-peach-sheepdog-ordinal            254588\n",
       "slimy-seashell-cassowary-goose          254356\n",
       "snazzy-harlequin-chicken-distraction    254576\n",
       "frumpy-smalt-mau-ordinal                254330\n",
       "                                         ...  \n",
       "jumpy-thistle-discus-sorted             254261\n",
       "muggy-turquoise-donkey-important        254366\n",
       "blurry-buff-hyena-entropy               254345\n",
       "bluesy-chocolate-kudu-fepid             254329\n",
       "gamy-white-monster-expert               254192\n",
       "Length: 256, dtype: int64"
      ]
     },
     "execution_count": 27,
     "metadata": {},
     "output_type": "execute_result"
    }
   ],
   "source": [
    "train[train_columns].nunique()"
   ]
  },
  {
   "cell_type": "code",
   "execution_count": 28,
   "metadata": {},
   "outputs": [
    {
     "name": "stdout",
     "output_type": "stream",
     "text": [
      "(array([146], dtype=int64),)\n"
     ]
    }
   ],
   "source": [
    "print(np.where(train[train_columns].nunique()<25000))\n",
    "# 25000개 이하의 인덱스를 반환"
   ]
  },
  {
   "cell_type": "code",
   "execution_count": 29,
   "metadata": {},
   "outputs": [
    {
     "name": "stdout",
     "output_type": "stream",
     "text": [
      "wheezy-copper-turtle-magic\n"
     ]
    }
   ],
   "source": [
    "print(train_columns[146])\n",
    "# 인덱스를 다시 넣어서 칼럼명을 확인"
   ]
  },
  {
   "cell_type": "code",
   "execution_count": 32,
   "metadata": {},
   "outputs": [
    {
     "name": "stdout",
     "output_type": "stream",
     "text": [
      "512\n"
     ]
    }
   ],
   "source": [
    "print(train[\"wheezy-copper-turtle-magic\"].nunique())"
   ]
  },
  {
   "cell_type": "code",
   "execution_count": 33,
   "metadata": {},
   "outputs": [
    {
     "name": "stdout",
     "output_type": "stream",
     "text": [
      "512.0\n"
     ]
    }
   ],
   "source": [
    "print(train[\"wheezy-copper-turtle-magic\"].value_counts().mean())"
   ]
  },
  {
   "cell_type": "code",
   "execution_count": 43,
   "metadata": {},
   "outputs": [
    {
     "data": {
      "text/plain": [
       "wheezy-copper-turtle-magic\n",
       "51     570\n",
       "489    556\n",
       "298    554\n",
       "135    554\n",
       "245    553\n",
       "      ... \n",
       "277    476\n",
       "215    475\n",
       "108    472\n",
       "42     471\n",
       "185    442\n",
       "Name: count, Length: 512, dtype: int64"
      ]
     },
     "execution_count": 43,
     "metadata": {},
     "output_type": "execute_result"
    }
   ],
   "source": [
    "train[\"wheezy-copper-turtle-magic\"].value_counts()"
   ]
  },
  {
   "cell_type": "code",
   "execution_count": 41,
   "metadata": {},
   "outputs": [
    {
     "name": "stdout",
     "output_type": "stream",
     "text": [
      "     wheezy-copper-turtle-magic  counts\n",
      "0                            51     570\n",
      "1                           489     556\n",
      "2                           298     554\n",
      "3                           135     554\n",
      "4                           245     553\n",
      "..                          ...     ...\n",
      "507                         277     476\n",
      "508                         215     475\n",
      "509                         108     472\n",
      "510                          42     471\n",
      "511                         185     442\n",
      "\n",
      "[512 rows x 2 columns]\n"
     ]
    }
   ],
   "source": [
    "print(train[\"wheezy-copper-turtle-magic\"].value_counts().rename_axis(\"wheezy-copper-turtle-magic\").reset_index(name=\"counts\"))"
   ]
  },
  {
   "cell_type": "code",
   "execution_count": 44,
   "metadata": {},
   "outputs": [],
   "source": [
    "train_columns=[c for c in train_columns if c not in [\"id\",\"target\",\"wheezy-copper-turtle-magic\"]]"
   ]
  },
  {
   "cell_type": "code",
   "execution_count": null,
   "metadata": {},
   "outputs": [],
   "source": [
    "# ㄴㄴㄴㄴㅇㅇㅇddd"
   ]
  }
 ],
 "metadata": {
  "kernelspec": {
   "display_name": "Python 3",
   "language": "python",
   "name": "python3"
  },
  "language_info": {
   "codemirror_mode": {
    "name": "ipython",
    "version": 3
   },
   "file_extension": ".py",
   "mimetype": "text/x-python",
   "name": "python",
   "nbconvert_exporter": "python",
   "pygments_lexer": "ipython3",
   "version": "3.10.9"
  }
 },
 "nbformat": 4,
 "nbformat_minor": 2
}
